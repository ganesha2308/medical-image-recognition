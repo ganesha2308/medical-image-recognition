{
 "cells": [
  {
   "cell_type": "markdown",
   "metadata": {},
   "source": [
    "## Import Modules"
   ]
  },
  {
   "cell_type": "code",
   "execution_count": 1,
   "metadata": {},
   "outputs": [],
   "source": [
    "import cv2\n",
    "from cv2 import dnn_superres"
   ]
  },
  {
   "cell_type": "code",
   "execution_count": 2,
   "metadata": {},
   "outputs": [],
   "source": [
    "# links to download models\n",
    "# https://github.com/Saafke/EDSR_Tensorflow/blob/master/models/\n",
    "# https://github.com/fannymonori/TF-LapSRN/blob/master/export/LapSRN_x8.pb"
   ]
  },
  {
   "cell_type": "markdown",
   "metadata": {},
   "source": [
    "## EDSR"
   ]
  },
  {
   "cell_type": "code",
   "execution_count": 3,
   "metadata": {},
   "outputs": [],
   "source": [
    "# initialize super resolution object\n",
    "sr = dnn_superres.DnnSuperResImpl_create()\n",
    "\n",
    "# read the model\n",
    "path = 'EDSR_x4.pb'\n",
    "sr.readModel(path)\n",
    "\n",
    "# set the model and scale\n",
    "sr.setModel('edsr', 4)"
   ]
  },
  {
   "cell_type": "code",
   "execution_count": 4,
   "metadata": {},
   "outputs": [],
   "source": [
    "# if you have cuda support\n",
    "sr.setPreferableBackend(cv2.dnn.DNN_BACKEND_CUDA)\n",
    "sr.setPreferableTarget(cv2.dnn.DNN_TARGET_CUDA)"
   ]
  },
  {
   "cell_type": "code",
   "execution_count": 5,
   "metadata": {},
   "outputs": [],
   "source": [
    "# load the image\n",
    "image = cv2.imread('butterfly.jpeg')"
   ]
  },
  {
   "cell_type": "code",
   "execution_count": 9,
   "metadata": {},
   "outputs": [
    {
     "data": {
      "text/plain": [
       "True"
      ]
     },
     "execution_count": 9,
     "metadata": {},
     "output_type": "execute_result"
    }
   ],
   "source": [
    "# upsample the image\n",
    "upscaled = sr.upsample(image)\n",
    "# save the upscaled image\n",
    "cv2.imwrite('butterfly-EDSR.jpeg', upscaled)"
   ]
  },
  {
   "cell_type": "code",
   "execution_count": 10,
   "metadata": {},
   "outputs": [
    {
     "data": {
      "text/plain": [
       "True"
      ]
     },
     "execution_count": 10,
     "metadata": {},
     "output_type": "execute_result"
    }
   ],
   "source": [
    "# traditional method - bicubic\n",
    "bicubic = cv2.resize(image, (upscaled.shape[1], upscaled.shape[0]), interpolation=cv2.INTER_CUBIC)\n",
    "# save the image\n",
    "cv2.imwrite('butterfly-CV2.jpeg', bicubic)"
   ]
  },
  {
   "cell_type": "markdown",
   "metadata": {},
   "source": [
    "## LapSRN"
   ]
  },
  {
   "cell_type": "code",
   "execution_count": 11,
   "metadata": {},
   "outputs": [],
   "source": [
    "# initialize super resolution object\n",
    "sr = dnn_superres.DnnSuperResImpl_create()\n",
    "\n",
    "# read the model\n",
    "path = 'models/image-resizer/LapSRN_x8.pb'\n",
    "sr.readModel(path)\n",
    "\n",
    "# set the model and scale\n",
    "sr.setModel('lapsrn', 8)"
   ]
  },
  {
   "cell_type": "code",
   "execution_count": 12,
   "metadata": {},
   "outputs": [],
   "source": [
    "# if you have cuda support\n",
    "sr.setPreferableBackend(cv2.dnn.DNN_BACKEND_CUDA)\n",
    "sr.setPreferableTarget(cv2.dnn.DNN_TARGET_CUDA)"
   ]
  },
  {
   "cell_type": "code",
   "execution_count": 13,
   "metadata": {},
   "outputs": [],
   "source": [
    "# load the image\n",
    "image = cv2.imread('assets/butterfly.jpeg')"
   ]
  },
  {
   "cell_type": "code",
   "execution_count": 14,
   "metadata": {},
   "outputs": [
    {
     "name": "stderr",
     "output_type": "stream",
     "text": [
      "[ WARN:0@1258.321] global net_impl.cpp:178 setUpNet DNN module was not built with CUDA backend; switching to CPU\n"
     ]
    },
    {
     "data": {
      "text/plain": [
       "True"
      ]
     },
     "execution_count": 14,
     "metadata": {},
     "output_type": "execute_result"
    }
   ],
   "source": [
    "# upsample the image\n",
    "upscaled = sr.upsample(image)\n",
    "# save the upscaled image\n",
    "cv2.imwrite('assets/butterfly-lapSRN.jpeg', upscaled)"
   ]
  }
 ],
 "metadata": {
  "kernelspec": {
   "display_name": "ml_env",
   "language": "python",
   "name": "ml_env"
  },
  "language_info": {
   "codemirror_mode": {
    "name": "ipython",
    "version": 3
   },
   "file_extension": ".py",
   "mimetype": "text/x-python",
   "name": "python",
   "nbconvert_exporter": "python",
   "pygments_lexer": "ipython3",
   "version": "3.11.3"
  }
 },
 "nbformat": 4,
 "nbformat_minor": 4
}
